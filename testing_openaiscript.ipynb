{
 "cells": [
  {
   "cell_type": "code",
   "execution_count": 1,
   "metadata": {},
   "outputs": [],
   "source": [
    "import os\n",
    "import openai\n",
    "import requests\n",
    "import json\n",
    "\n",
    "# Define the API endpoint and your API key\n",
    "api_endpoint = \"https://api.openai.com/v1/engines/text-davinci-002/completions\"\n",
    "api_key = os.environ[\"OPENAI_API_KEY\"]"
   ]
  },
  {
   "cell_type": "code",
   "execution_count": 2,
   "metadata": {},
   "outputs": [],
   "source": [
    "# Define the input parameters for the API request\n",
    "data = {\n",
    "    \"prompt\": \"What is the hexcode of green?\",\n",
    "    \"temperature\": 0.5,\n",
    "    \"max_tokens\": 128,\n",
    "}"
   ]
  },
  {
   "cell_type": "code",
   "execution_count": 20,
   "metadata": {},
   "outputs": [
    {
     "name": "stdout",
     "output_type": "stream",
     "text": [
      "<Response [200]>\n"
     ]
    }
   ],
   "source": [
    "# Make the API request\n",
    "response = requests.post(api_endpoint, json=data, headers={ \"Authorization\": f\"Bearer {api_key}\"})\n",
    "print(response)"
   ]
  },
  {
   "cell_type": "code",
   "execution_count": 19,
   "metadata": {},
   "outputs": [],
   "source": [
    "# print(json.dumps(response.json(), indent=4))"
   ]
  },
  {
   "cell_type": "code",
   "execution_count": 18,
   "metadata": {},
   "outputs": [
    {
     "name": "stdout",
     "output_type": "stream",
     "text": [
      "choice\n",
      "\n",
      "\n",
      "There is no one-size-fits-all answer to this question, as the best way to call your son using your phone will vary depending on your individual circumstances and relationship with your son. However, some tips on how to call your son using your phone in a way that is respectful and effective include:\n",
      "\n",
      "-Consider your son's age and maturity level when deciding how to approach the conversation. If your son is a teenager or young adult, you may want to have a more serious conversation about why you are calling and what you hope to accomplish. If your son is younger, you may want to take a more light\n",
      "\n",
      "Due to testing response was cut short to cost less.\n"
     ]
    }
   ],
   "source": [
    "temp = response.json()\n",
    "if \"choices\" in temp:\n",
    "    print(\"choice\")\n",
    "    choices = temp[\"choices\"][0]\n",
    "    if \"text\" in choices:\n",
    "        text = choices[\"text\"]\n",
    "\n",
    "        if \"finish_reason\" in choices:\n",
    "            finish_reason = choices[\"finish_reason\"]\n",
    "            if finish_reason == \"length\":\n",
    "                text = text + \"\\n\\nDue to testing response was cut short to cost less.\"\n",
    "        print(text)\n",
    "    "
   ]
  }
 ],
 "metadata": {
  "kernelspec": {
   "display_name": "Python 3",
   "language": "python",
   "name": "python3"
  },
  "language_info": {
   "codemirror_mode": {
    "name": "ipython",
    "version": 3
   },
   "file_extension": ".py",
   "mimetype": "text/x-python",
   "name": "python",
   "nbconvert_exporter": "python",
   "pygments_lexer": "ipython3",
   "version": "3.11.1 (tags/v3.11.1:a7a450f, Dec  6 2022, 19:58:39) [MSC v.1934 64 bit (AMD64)]"
  },
  "orig_nbformat": 4,
  "vscode": {
   "interpreter": {
    "hash": "5238573367df39f7286bb46f9ff5f08f63a01a80960060ce41e3c79b190280fa"
   }
  }
 },
 "nbformat": 4,
 "nbformat_minor": 2
}
